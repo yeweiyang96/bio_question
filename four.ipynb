{
 "cells": [
  {
   "cell_type": "markdown",
   "metadata": {
    "collapsed": false,
    "jupyter": {
     "outputs_hidden": false
    }
   },
   "source": [
    "# MBGD"
   ]
  },
  {
   "cell_type": "markdown",
   "metadata": {
    "collapsed": false,
    "jupyter": {
     "outputs_hidden": false
    }
   },
   "source": [
    "```\n",
    "#!/bin/bash\n",
    "\n",
    "folder_path=\"data/mbgd_2018-01_proteinseq\"\n",
    "db_name=\"MBGD\"\n",
    "\n",
    "for file_path in \"$folder_path\"/*; do\n",
    "if [ -f \"$file_path\" ]; then\n",
    "file_name=$(basename \"$file_path\")\n",
    "api.py -db \"$db_name\" -n \"$file_name\"\n",
    "fi\n",
    "done\n",
    "\n",
    "```"
   ]
  },
  {
   "cell_type": "code",
   "execution_count": 1,
   "metadata": {
    "collapsed": false,
    "jupyter": {
     "outputs_hidden": false
    }
   },
   "outputs": [
    {
     "name": "stdout",
     "output_type": "stream",
     "text": [
      "initialization failed. unable to open database file\n"
     ]
    },
    {
     "ename": "OperationalError",
     "evalue": "unable to open database file",
     "output_type": "error",
     "traceback": [
      "\u001b[0;31m---------------------------------------------------------------------------\u001b[0m",
      "\u001b[0;31mOperationalError\u001b[0m                          Traceback (most recent call last)",
      "Cell \u001b[0;32mIn[1], line 10\u001b[0m\n\u001b[1;32m      9\u001b[0m \u001b[38;5;28;01mtry\u001b[39;00m:\n\u001b[0;32m---> 10\u001b[0m     \u001b[43mDB_Manager\u001b[49m\u001b[38;5;241;43m.\u001b[39;49m\u001b[43mbuild_table\u001b[49m\u001b[43m(\u001b[49m\u001b[43mdb_name\u001b[49m\u001b[43m,\u001b[49m\u001b[43m \u001b[49m\u001b[43mfile_name\u001b[49m\u001b[43m)\u001b[49m\n\u001b[1;32m     11\u001b[0m     DB_Manager\u001b[38;5;241m.\u001b[39mimport_data(db_name, file_name)\n",
      "File \u001b[0;32m~/Desktop/bioinfomatics/init/DB_Manager.py:7\u001b[0m, in \u001b[0;36mbuild_table\u001b[0;34m(db_name, table_name)\u001b[0m\n\u001b[1;32m      6\u001b[0m absolute_path \u001b[38;5;241m=\u001b[39m \u001b[38;5;124m'\u001b[39m\u001b[38;5;124m/Users/wangzekun/bioinfomatics/data/\u001b[39m\u001b[38;5;124m'\u001b[39m\n\u001b[0;32m----> 7\u001b[0m con \u001b[38;5;241m=\u001b[39m \u001b[43msqlite3\u001b[49m\u001b[38;5;241;43m.\u001b[39;49m\u001b[43mconnect\u001b[49m\u001b[43m(\u001b[49m\u001b[43mabsolute_path\u001b[49m\u001b[38;5;241;43m+\u001b[39;49m\u001b[43mdb_name\u001b[49m\u001b[43m)\u001b[49m\n\u001b[1;32m      8\u001b[0m cur \u001b[38;5;241m=\u001b[39m con\u001b[38;5;241m.\u001b[39mcursor()\n",
      "\u001b[0;31mOperationalError\u001b[0m: unable to open database file",
      "\nDuring handling of the above exception, another exception occurred:\n",
      "\u001b[0;31mOperationalError\u001b[0m                          Traceback (most recent call last)",
      "Cell \u001b[0;32mIn[1], line 16\u001b[0m\n\u001b[1;32m     14\u001b[0m         \u001b[38;5;28mprint\u001b[39m(\u001b[38;5;124m'\u001b[39m\u001b[38;5;124minitialization failed.\u001b[39m\u001b[38;5;124m'\u001b[39m, e)\n\u001b[1;32m     15\u001b[0m         failed_tables\u001b[38;5;241m.\u001b[39mappend(file_name)\n\u001b[0;32m---> 16\u001b[0m         \u001b[43mDB_Manager\u001b[49m\u001b[38;5;241;43m.\u001b[39;49m\u001b[43mdelete_tables\u001b[49m\u001b[43m(\u001b[49m\u001b[43mdb_name\u001b[49m\u001b[43m,\u001b[49m\u001b[43m \u001b[49m\u001b[43mfile_name\u001b[49m\u001b[43m)\u001b[49m\n\u001b[1;32m     18\u001b[0m \u001b[38;5;28;01mif\u001b[39;00m \u001b[38;5;28mlen\u001b[39m(failed_tables) \u001b[38;5;241m>\u001b[39m \u001b[38;5;241m0\u001b[39m:\n\u001b[1;32m     19\u001b[0m     \u001b[38;5;28mprint\u001b[39m(\u001b[38;5;124m'\u001b[39m\u001b[38;5;124mfailed tables: \u001b[39m\u001b[38;5;124m'\u001b[39m)\n",
      "File \u001b[0;32m~/Desktop/bioinfomatics/init/DB_Manager.py:36\u001b[0m, in \u001b[0;36mdelete_tables\u001b[0;34m(db_name, tables_name)\u001b[0m\n\u001b[1;32m     34\u001b[0m \u001b[38;5;28;01mdef\u001b[39;00m \u001b[38;5;21mdelete_tables\u001b[39m(db_name, tables_name):\n\u001b[1;32m     35\u001b[0m     absolute_path \u001b[38;5;241m=\u001b[39m \u001b[38;5;124m'\u001b[39m\u001b[38;5;124m/Users/wangzekun/bioinfomatics/data/\u001b[39m\u001b[38;5;124m'\u001b[39m\n\u001b[0;32m---> 36\u001b[0m     con \u001b[38;5;241m=\u001b[39m \u001b[43msqlite3\u001b[49m\u001b[38;5;241;43m.\u001b[39;49m\u001b[43mconnect\u001b[49m\u001b[43m(\u001b[49m\u001b[43mabsolute_path\u001b[49m\u001b[38;5;241;43m+\u001b[39;49m\u001b[43mdb_name\u001b[49m\u001b[43m)\u001b[49m\n\u001b[1;32m     37\u001b[0m     cur \u001b[38;5;241m=\u001b[39m con\u001b[38;5;241m.\u001b[39mcursor()\n\u001b[1;32m     38\u001b[0m     \u001b[38;5;28;01mfor\u001b[39;00m table_name \u001b[38;5;129;01min\u001b[39;00m tables_name:\n",
      "\u001b[0;31mOperationalError\u001b[0m: unable to open database file"
     ]
    }
   ],
   "source": [
    "import os\n",
    "from init import DB_Manager\n",
    "folder_path = 'data/mbgd_2018-01_proteinseq'\n",
    "file_names = os.listdir(folder_path)\n",
    "db_name = 'MBGD'\n",
    "failed_tables = []\n",
    "\n",
    "for file_name in file_names:\n",
    "    try:\n",
    "        DB_Manager.build_table(db_name, file_name)\n",
    "        DB_Manager.import_data(db_name, file_name)\n",
    "    except Exception as e:\n",
    "        # rollback operation\n",
    "        print('initialization failed.', e)\n",
    "        failed_tables.append(file_name)\n",
    "        DB_Manager.delete_tables(db_name, file_name)\n",
    "\n",
    "if len(failed_tables) > 0:\n",
    "    print('failed tables: ')\n",
    "    print(failed_tables)\n",
    "else:\n",
    "    print('initialization successful.')\n"
   ]
  },
  {
   "cell_type": "code",
   "execution_count": null,
   "metadata": {},
   "outputs": [],
   "source": []
  }
 ],
 "metadata": {
  "kernelspec": {
   "display_name": "Python 3 (ipykernel)",
   "language": "python",
   "name": "python3"
  },
  "language_info": {
   "codemirror_mode": {
    "name": "ipython",
    "version": 3
   },
   "file_extension": ".py",
   "mimetype": "text/x-python",
   "name": "python",
   "nbconvert_exporter": "python",
   "pygments_lexer": "ipython3",
   "version": "3.12.3"
  }
 },
 "nbformat": 4,
 "nbformat_minor": 4
}
