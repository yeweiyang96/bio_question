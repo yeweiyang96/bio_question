{
 "cells": [
  {
   "cell_type": "markdown",
   "id": "fdb99bc3890d12bb",
   "metadata": {
    "collapsed": false,
    "jupyter": {
     "outputs_hidden": false
    }
   },
   "source": [
    "## λファージのゲノム配列の制限酵素処理\n",
    "λファージのゲノム配列を取得し、適当な制限酵素で処理した時に得られる配列の長さの分布を出力する。各種の制限酵素で処理した場合の、長さの分布を比較する。\n"
   ]
  },
  {
   "cell_type": "code",
   "id": "e5f127bb7444566c",
   "metadata": {
    "collapsed": false,
    "jupyter": {
     "outputs_hidden": false
    },
    "ExecuteTime": {
     "end_time": "2024-10-01T08:37:11.456024Z",
     "start_time": "2024-10-01T08:37:10.734904Z"
    }
   },
   "source": [
    "import numpy as np\n",
    "from Bio import SeqIO\n",
    "from Bio import Restriction\n",
    "import seaborn as sns\n",
    "import matplotlib.pyplot as plt\n",
    "from DataManager import size_of_fragments_obtained\n",
    "\n",
    "record = SeqIO.read('data/GCF_000840245.1/GCF_000840245.1_ViralProj14204_genomic.fna', \"fasta\")\n",
    "dna_seq = record.seq\n",
    "seq_length = len(record.seq)\n",
    "enzymes = [\"EcoRI\", \"HindIII\"]"
   ],
   "outputs": [],
   "execution_count": 2
  },
  {
   "cell_type": "markdown",
   "id": "a370cc57-6f1b-4610-b149-71dee2645a63",
   "metadata": {},
   "source": [
    " > The position returned by the method search is the first base of the downstream segment produced by a restriction (i.e. the first base after the position where the enzyme will cut). "
   ]
  },
  {
   "cell_type": "code",
   "id": "81faa5f3-bc65-45be-968b-732a25378289",
   "metadata": {
    "ExecuteTime": {
     "end_time": "2024-10-01T08:37:16.123160Z",
     "start_time": "2024-10-01T08:37:16.120045Z"
    }
   },
   "source": [
    "eco_sites = Restriction.EcoRI.search(dna_seq, linear=True)\n",
    "print(eco_sites)"
   ],
   "outputs": [
    {
     "name": "stdout",
     "output_type": "stream",
     "text": [
      "[21227, 26105, 31748, 39169, 44973]\n"
     ]
    }
   ],
   "execution_count": 3
  },
  {
   "cell_type": "markdown",
   "id": "1f858dab-c1b4-4c86-9382-7a4227845575",
   "metadata": {},
   "source": [
    "> Although lambda DNA circularizes for replication and insertion into the E. coli chromosome, the DNA inside the phage particle is linear"
   ]
  },
  {
   "cell_type": "code",
   "id": "8961480f-7c58-4f9a-becf-67e33b7db230",
   "metadata": {
    "ExecuteTime": {
     "end_time": "2024-10-01T08:37:17.334777Z",
     "start_time": "2024-10-01T08:37:17.332462Z"
    }
   },
   "source": [
    "eco_lens = size_of_fragments_obtained(eco_sites,seq_length)\n",
    "print(eco_lens)"
   ],
   "outputs": [
    {
     "name": "stdout",
     "output_type": "stream",
     "text": [
      "[21226, 4878, 5643, 7421, 5804, 3530]\n"
     ]
    }
   ],
   "execution_count": 4
  },
  {
   "cell_type": "code",
   "id": "28a42cd9-44c7-4cff-a854-20c4b87bd7d9",
   "metadata": {
    "ExecuteTime": {
     "end_time": "2024-10-01T08:37:17.927567Z",
     "start_time": "2024-10-01T08:37:17.924699Z"
    }
   },
   "source": [
    "hind_sites = Restriction.HindIII.search(dna_seq)\n",
    "print(hind_sites)"
   ],
   "outputs": [
    {
     "name": "stdout",
     "output_type": "stream",
     "text": [
      "[23131, 25158, 27480, 36896, 37460, 44142]\n"
     ]
    }
   ],
   "execution_count": 5
  },
  {
   "cell_type": "code",
   "id": "4be95649-9163-4924-baa5-8cb781b106f9",
   "metadata": {
    "ExecuteTime": {
     "end_time": "2024-10-01T08:37:18.594145Z",
     "start_time": "2024-10-01T08:37:18.592004Z"
    }
   },
   "source": [
    "hind_lens = size_of_fragments_obtained(hind_sites,seq_length)\n",
    "print(hind_lens)"
   ],
   "outputs": [
    {
     "name": "stdout",
     "output_type": "stream",
     "text": [
      "[23130, 2027, 2322, 9416, 564, 6682, 4361]\n"
     ]
    }
   ],
   "execution_count": 6
  },
  {
   "cell_type": "code",
   "id": "7bb32043-533b-4676-850c-f244c50826aa",
   "metadata": {
    "ExecuteTime": {
     "end_time": "2024-10-01T08:37:19.271935Z",
     "start_time": "2024-10-01T08:37:19.202268Z"
    }
   },
   "source": [
    "sns.set()\n",
    "# sns.set_style('whitegrid')\n",
    "# sns.set_palette('Set3')\n",
    "sns.boxplot(x=['EcoRI']*len(eco_lens) + ['HindIII']*len(hind_lens), y=np.concatenate([eco_lens, hind_lens]))\n",
    "plt.show()"
   ],
   "outputs": [
    {
     "data": {
      "text/plain": [
       "<Figure size 640x480 with 1 Axes>"
      ],
      "image/png": "[encoded data removed]"
     },
     "metadata": {},
     "output_type": "display_data"
    }
   ],
   "execution_count": 7
  }
 ],
 "metadata": {
  "kernelspec": {
   "display_name": "Python 3 (ipykernel)",
   "language": "python",
   "name": "python3"
  },
  "language_info": {
   "codemirror_mode": {
    "name": "ipython",
    "version": 3
   },
   "file_extension": ".py",
   "mimetype": "text/x-python",
   "name": "python",
   "nbconvert_exporter": "python",
   "pygments_lexer": "ipython3",
   "version": "3.12.3"
  },
  "vscode": {
   "interpreter": {
    "hash": "31f2aee4e71d21fbe5cf8b01ff0e069b9275f58929596ceb00d14d90e3e16cd6"
   }
  }
 },
 "nbformat": 4,
 "nbformat_minor": 5
}
